{
 "nbformat": 4,
 "nbformat_minor": 0,
 "metadata": {
  "colab": {
   "provenance": []
  },
  "kernelspec": {
   "name": "python3",
   "language": "python",
   "display_name": "Python 3 (ipykernel)"
  },
  "language_info": {
   "name": "python"
  }
 },
 "cells": [
  {
   "cell_type": "markdown",
   "source": [
    "# I. Змінні та памʼять."
   ],
   "metadata": {
    "id": "p9wwt0LZzNvn"
   }
  },
  {
   "cell_type": "markdown",
   "source": [
    "1. Створити змінні, що посилаються на два цілих числа, що однакові за значенням, де значення належить проміжку від -5 до 256. Перевірте, чи будуть ці змінні рівні тільки за значенням або ж ще будуть посилатися на один і той самий обʼєкт в памʼяті? Наведіть код та дайте текстову відповідь нижче."
   ],
   "metadata": {
    "id": "HTJrrm95xSV9"
   }
  },
  {
   "cell_type": "code",
   "execution_count": 1,
   "metadata": {
    "id": "TATni2vzayjG",
    "colab": {
     "base_uri": "https://localhost:8080/"
    },
    "outputId": "8554b210-af86-49ee-922c-4b58ece29276"
   },
   "outputs": [
    {
     "output_type": "stream",
     "name": "stdout",
     "text": [
      "x та y рівні за значенням та посилаються на той самий об'єкт в пам'яті\n"
     ]
    }
   ],
   "source": [
    "x = 200\n",
    "y = 200\n",
    "\n",
    "if x == y and x is y:\n",
    "  print(\"x та y рівні за значенням та посилаються на той самий об'єкт в пам'яті\")\n",
    "else:\n",
    "  print(\"x та y рівні за значенням та НЕ посилаються на той самий об'єкт в пам'яті\")\n",
    "\n"
   ]
  },
  {
   "cell_type": "markdown",
   "source": [
    "*місце для текстової відповіді\n",
    "\n",
    "*Цілі числа в проміжку від -5 до 256, якщо мають однакове значення, посилаються на один і той самий об'єкт. Це зроблено для збереження пам'яті.*"
   ],
   "metadata": {
    "id": "zfRG_o3WbRdg"
   }
  },
  {
   "cell_type": "markdown",
   "source": [
    "2. За допомогою якої функції можна перевірити належність змінної до вказаного типу даних (напр. чи змінна True посилається на значення булевого та цілочисленого типу)?"
   ],
   "metadata": {
    "id": "ISORzt6M3vAt"
   }
  },
  {
   "cell_type": "code",
   "source": [
    "variable = True\n",
    "\n",
    "is_boolean = isinstance(variable, bool)\n",
    "print(\"Чи змінна True посилається на значення булевого типу?\", is_boolean)\n",
    "\n",
    "is_integer = isinstance(variable, int)\n",
    "print(\"Чи змінна True посилається на значення цілочисленого типу?\", is_integer)\n",
    "#bool є підкласом int, тому True це також і int"
   ],
   "metadata": {
    "id": "9vL9CFaMbfyo",
    "colab": {
     "base_uri": "https://localhost:8080/"
    },
    "outputId": "e6b88318-e1d1-4129-8322-179da1e3107d"
   },
   "execution_count": 2,
   "outputs": [
    {
     "output_type": "stream",
     "name": "stdout",
     "text": [
      "Чи змінна True посилається на значення булевого типу? True\n",
      "Чи змінна True посилається на значення цілочисленого типу? True\n"
     ]
    }
   ]
  },
  {
   "cell_type": "markdown",
   "source": [
    "# II. Цілі числа та числа з рухомою комою"
   ],
   "metadata": {
    "id": "tRxugKAxwYLw"
   }
  },
  {
   "cell_type": "markdown",
   "source": [
    "3. Створити дві змінні, що посилаються на будь-які ціле число та число з рухомою комою та продемонструвати такі арифметичні операції: додавання, віднімання, ділення, множення, ділення без залишку, ділення по модулю, приведення до ступеню. Всі результати операцій вивести на екран."
   ],
   "metadata": {
    "id": "NLHkgd5Gybc8"
   }
  },
  {
   "cell_type": "code",
   "source": [
    "integer_var = 10\n",
    "float_var = 3.5\n",
    "\n",
    "addition = integer_var + float_var\n",
    "print(\"Додавання:\", addition)\n",
    "\n",
    "subtraction = integer_var - float_var\n",
    "print(\"Віднімання:\", subtraction)\n",
    "\n",
    "division = integer_var / float_var\n",
    "print(\"Ділення:\", division)\n",
    "\n",
    "multiplication = integer_var * float_var\n",
    "print(\"Множення:\", multiplication)\n",
    "\n",
    "floor_division = integer_var // float_var\n",
    "print(\"Ділення без залишку:\", floor_division)\n",
    "\n",
    "modulo = integer_var % float_var\n",
    "print(\"Ділення по модулю:\", modulo)\n",
    "\n",
    "exponentiation = integer_var ** float_var\n",
    "print(\"Приведення до ступеня:\", exponentiation)"
   ],
   "metadata": {
    "id": "nb8u_3pjb2cA",
    "colab": {
     "base_uri": "https://localhost:8080/"
    },
    "outputId": "cec43405-c39c-42d4-dc01-97f3a27dffb5"
   },
   "execution_count": 3,
   "outputs": [
    {
     "output_type": "stream",
     "name": "stdout",
     "text": [
      "Додавання: 13.5\n",
      "Віднімання: 6.5\n",
      "Ділення: 2.857142857142857\n",
      "Множення: 35.0\n",
      "Ділення без залишку: 2.0\n",
      "Ділення по модулю: 3.0\n",
      "Приведення до ступеня: 3162.2776601683795\n"
     ]
    }
   ]
  },
  {
   "cell_type": "markdown",
   "source": [
    "4. Використовуючи змінні з вправи 3, продемонструйте механізм явного перетворення типів, де числа з рухомою комою перетворюються на цілі числа. Також визначте змінну, що посилається на значення булевого типу і спробуйте явно привести її до цілого числа."
   ],
   "metadata": {
    "id": "1kBClKgPzZnC"
   }
  },
  {
   "cell_type": "code",
   "source": [
    "boolean_var = True\n",
    "\n",
    "float_to_int = int(float_var)\n",
    "print(\"Після перетворення числа з рухомою комою на ціле число:\", float_to_int)\n",
    "\n",
    "boolean_to_int = int(boolean_var)\n",
    "print(\"Після перетворення змінної булевого типу на ціле число:\", boolean_to_int)"
   ],
   "metadata": {
    "id": "TbqJbkeUcKsD",
    "colab": {
     "base_uri": "https://localhost:8080/"
    },
    "outputId": "1847c927-f861-4c7a-bbb3-e2d922b303fd"
   },
   "execution_count": 4,
   "outputs": [
    {
     "output_type": "stream",
     "name": "stdout",
     "text": [
      "Після перетворення числа з рухомою комою на ціле число: 3\n",
      "Після перетворення змінної булевого типу на ціле число: 1\n"
     ]
    }
   ]
  },
  {
   "cell_type": "markdown",
   "source": [
    "# IІІ. Рядки (String)."
   ],
   "metadata": {
    "id": "EVJ7AflwxrZi"
   }
  },
  {
   "cell_type": "markdown",
   "source": [
    "5. Створити пустий рядок двома різними способами."
   ],
   "metadata": {
    "id": "_s5ECzz9zE61"
   }
  },
  {
   "cell_type": "code",
   "source": [
    "str1 = \"\"\n",
    "str2 = str()"
   ],
   "metadata": {
    "id": "fkZJHu9Scvc-"
   },
   "execution_count": 5,
   "outputs": []
  },
  {
   "cell_type": "markdown",
   "source": [
    "6. Створити рядок з апострофом. Зробити його сирим. Вивести обидва рядка на екран."
   ],
   "metadata": {
    "id": "4Bdn9J3MzLf_"
   }
  },
  {
   "cell_type": "code",
   "source": [
    "str3 = '\\'Hello World!\\''\n",
    "\n",
    "str4 = r'\\'Hello World!\\''\n",
    "\n",
    "print(str3)\n",
    "print(str4)"
   ],
   "metadata": {
    "id": "ivji_hsmc0GH",
    "colab": {
     "base_uri": "https://localhost:8080/"
    },
    "outputId": "d5e5f138-2411-4379-b473-a24426ab49e9"
   },
   "execution_count": 6,
   "outputs": [
    {
     "output_type": "stream",
     "name": "stdout",
     "text": [
      "'Hello World!'\n",
      "\\'Hello World!\\'\n"
     ]
    }
   ]
  },
  {
   "cell_type": "markdown",
   "source": [
    "7. Створити змінну, що буде посилатися на Ваше прізвище латинкою. Створити форматований рядок, який буде мати вигляд \"My surname is ______\", де на місці нижніх підкреслень буде Ваше прізвище зі змінної."
   ],
   "metadata": {
    "id": "bg_d8wM4z8dS"
   }
  },
  {
   "cell_type": "code",
   "source": [
    "surname = 'Ostrolutskyi'\n",
    "str5 = f\"My surname is {surname}\"\n",
    "print(str5)"
   ],
   "metadata": {
    "id": "kuxFgpWndACq",
    "colab": {
     "base_uri": "https://localhost:8080/"
    },
    "outputId": "a37611d6-910a-4e81-891d-597d7e58b9da"
   },
   "execution_count": 7,
   "outputs": [
    {
     "output_type": "stream",
     "name": "stdout",
     "text": [
      "My surname is Ostrolutskyi\n"
     ]
    }
   ]
  },
  {
   "cell_type": "markdown",
   "source": [
    "8. Маючи рядок \"My dog is crazy.\" перетворити його на список [\"my\", \"dog\", \"is\", \"crazy\"]"
   ],
   "metadata": {
    "id": "1Nc6RqvQ0hxU"
   }
  },
  {
   "cell_type": "code",
   "source": [
    "str6 = \"My dog is crazy\"\n",
    "word_list = str6.split()\n",
    "print(word_list)"
   ],
   "metadata": {
    "id": "w1Ya4RqedUhw",
    "colab": {
     "base_uri": "https://localhost:8080/"
    },
    "outputId": "d3d992d9-10a1-407b-b5f0-b1613b196942"
   },
   "execution_count": 8,
   "outputs": [
    {
     "output_type": "stream",
     "name": "stdout",
     "text": [
      "['My', 'dog', 'is', 'crazy']\n"
     ]
    }
   ]
  },
  {
   "cell_type": "markdown",
   "source": [
    "# IV. Робота зі списками."
   ],
   "metadata": {
    "id": "GYVqN9uP1D4n"
   }
  },
  {
   "cell_type": "markdown",
   "source": [
    "9. Створити список двома різними за синтаксисом способами. За допомогою вбудованої функції обчисліть довжину одного з них."
   ],
   "metadata": {
    "id": "7-DeDunw2sO-"
   }
  },
  {
   "cell_type": "code",
   "source": [
    "list1 = [1, 2, 3, 4, 5]\n",
    "list2 = list(range(10))\n",
    "len1 = len(list1)\n",
    "print(\"Довжина списку list1:\", len1)\n"
   ],
   "metadata": {
    "id": "zxg06Uuxdyoh",
    "colab": {
     "base_uri": "https://localhost:8080/"
    },
    "outputId": "0f899319-56c6-4ddb-ec8c-5d769e2f1e3c"
   },
   "execution_count": 9,
   "outputs": [
    {
     "output_type": "stream",
     "name": "stdout",
     "text": [
      "Довжина списку list1: 5\n"
     ]
    }
   ]
  },
  {
   "cell_type": "markdown",
   "source": [
    "10. Створіть два списка та за допомогою спеціального методу додайте другий з них в якості останнього елемента першого."
   ],
   "metadata": {
    "id": "8vmGUTjL22gI"
   }
  },
  {
   "cell_type": "code",
   "source": [
    "list3 = [1, 2, 3]\n",
    "list4 = [4, 5, 6]\n",
    "list3.append(list4)\n",
    "print(\"list3 після додавання елементів другого списку:\", list3)"
   ],
   "metadata": {
    "id": "uHtjWYw7d7hm",
    "colab": {
     "base_uri": "https://localhost:8080/"
    },
    "outputId": "ba369a47-e83a-4ae8-f62b-3d74b5077357"
   },
   "execution_count": 11,
   "outputs": [
    {
     "output_type": "stream",
     "name": "stdout",
     "text": [
      "list3 після додавання елементів другого списку: [1, 2, 3, [4, 5, 6]]\n"
     ]
    }
   ]
  },
  {
   "cell_type": "markdown",
   "source": [
    "11. Створіть список, де елементами цього списку також є списки. Отримай перший елемент з останнього рядка та виведи значення на екран."
   ],
   "metadata": {
    "id": "JC3BkD-67_--"
   }
  },
  {
   "cell_type": "code",
   "source": [
    "list5 = [\n",
    "    [1, 2, 3],\n",
    "    [4, 5, 6],\n",
    "    [7, 8, 9]\n",
    "]\n",
    "\n",
    "last_row_first_element = list5[-1][0]\n",
    "\n",
    "print(\"Перший елемент з останнього рядка:\", last_row_first_element)"
   ],
   "metadata": {
    "id": "Kz2jZHsGeLlz",
    "colab": {
     "base_uri": "https://localhost:8080/"
    },
    "outputId": "4d796099-e112-471f-b0e5-729336ac8bab"
   },
   "execution_count": 12,
   "outputs": [
    {
     "output_type": "stream",
     "name": "stdout",
     "text": [
      "Перший елемент з останнього рядка: 7\n"
     ]
    }
   ]
  },
  {
   "cell_type": "markdown",
   "source": [
    "12. Створіть список з десяти елементів різного типу. Отримайте всі елементи, окрім двох перших та двох останніх та збережіть їх в новій змінній."
   ],
   "metadata": {
    "id": "JA47PKTv8zFK"
   }
  },
  {
   "cell_type": "code",
   "source": [
    "list6 = [1, 'two', 3.0, True, [5, 6], ('seven', 8), {'nine': 9}, None, 10, 'eleven']\n",
    "\n",
    "list7 = list6[2:-2]\n",
    "\n",
    "print(\"Новий список без перших та останніх двох елементів:\", list7)"
   ],
   "metadata": {
    "id": "_rHdUR-ueP4-",
    "colab": {
     "base_uri": "https://localhost:8080/"
    },
    "outputId": "4a07e349-4364-4c24-92f4-11a5c6d1aa83"
   },
   "execution_count": 13,
   "outputs": [
    {
     "output_type": "stream",
     "name": "stdout",
     "text": [
      "Новий список без перших та останніх двох елементів: [3.0, True, [5, 6], ('seven', 8), {'nine': 9}, None]\n"
     ]
    }
   ]
  },
  {
   "cell_type": "markdown",
   "source": [
    "# V. Робота з кортежами."
   ],
   "metadata": {
    "id": "pCjR1dJb1Qbi"
   }
  },
  {
   "cell_type": "markdown",
   "source": [
    "14. Створити кортеж з один елементом.\n",
    "\n"
   ],
   "metadata": {
    "id": "fAZCxAX06R_k"
   }
  },
  {
   "cell_type": "code",
   "source": [
    "tuple1 = (1,)\n",
    "print(tuple1)"
   ],
   "metadata": {
    "id": "H7d82WkQev3e",
    "colab": {
     "base_uri": "https://localhost:8080/"
    },
    "outputId": "8d8850a4-d69e-47ca-b779-bf90f178f7ed"
   },
   "execution_count": 15,
   "outputs": [
    {
     "output_type": "stream",
     "name": "stdout",
     "text": [
      "(1,)\n"
     ]
    }
   ]
  },
  {
   "cell_type": "markdown",
   "source": [
    "15. Порівняйте список та кортеж. Назвіть схожості та відмінності, випадки використання."
   ],
   "metadata": {
    "id": "8LCtYcmI6w1M"
   }
  },
  {
   "cell_type": "markdown",
   "source": [
    "*місце для текстової відповіді\n",
    "\n",
    "*Списки це змінювана (mutable) структура даних, в той час як кортеж - незмінювана (immutable). Тобто кортеж захищає дані від змін. Окрім того, через незмінюваність кортеж займає менше пам'яті. Варто згадати, що, за традицією, в списках всі елементи належать одному типу, в той час як в кортежах можуть зустрічатися елементи різних типів (це не є правилом, а суто звичаєм).*"
   ],
   "metadata": {
    "id": "fUsN1Hnue0C6"
   }
  },
  {
   "cell_type": "markdown",
   "source": [
    "16. Створіть кортеж з 11ти елементів чисел з рухомою комою та отримайте кожен парний за індексом елемент в зворотньому порядку. Наприклад, маючи (1.2, 2.3, 3.3, 4.3, 5.3, 6.3, 7.3, 8.3, 9.3, 0.3), отримати (0.3, 8.3, 6.3, 4.3, 2.3). Результат збережіть в нову змінну та виведіть на екран."
   ],
   "metadata": {
    "id": "m0xrwFijAmDD"
   }
  },
  {
   "cell_type": "code",
   "source": [
    "tuple2 = (1.2, 2.3, 3.3, 4.3, 5.3, 6.3, 7.3, 8.3, 9.3, 0.3, 1.4)\n",
    "result = tuple2[-2::-2]\n",
    "result"
   ],
   "metadata": {
    "id": "p-5DAH6XfAGA",
    "colab": {
     "base_uri": "https://localhost:8080/"
    },
    "outputId": "0548bcfc-3531-44e5-9677-07d38ae6d570"
   },
   "execution_count": 18,
   "outputs": [
    {
     "output_type": "execute_result",
     "data": {
      "text/plain": [
       "(0.3, 8.3, 6.3, 4.3, 2.3)"
      ]
     },
     "metadata": {},
     "execution_count": 18
    }
   ]
  },
  {
   "cell_type": "markdown",
   "source": [
    "# VI. Множини (Set)."
   ],
   "metadata": {
    "id": "rW_I9dt3x6cW"
   }
  },
  {
   "cell_type": "markdown",
   "source": [
    "17. Створити множину без елементів. Після цого за допомогою методу додайте кілька різних елементів до множини. Чи множини є змінним типом даних?"
   ],
   "metadata": {
    "id": "zNjRLHLw1Bgg"
   }
  },
  {
   "cell_type": "code",
   "source": [
    "set1 = set()\n",
    "set1.add(1)\n",
    "set1.add(2)\n",
    "set1.update([3, 4, 5])\n",
    "print(set1)"
   ],
   "metadata": {
    "id": "KOv7zc2Kfo4N",
    "colab": {
     "base_uri": "https://localhost:8080/"
    },
    "outputId": "168d6978-83dc-4ba7-a017-ca18b412ba8d"
   },
   "execution_count": 22,
   "outputs": [
    {
     "output_type": "stream",
     "name": "stdout",
     "text": [
      "{1, 2, 3, 4, 5}\n"
     ]
    }
   ]
  },
  {
   "cell_type": "markdown",
   "source": [
    "*місце для текстової відповіді\n",
    "\n",
    "*Так, множини є змінним типом даних.*"
   ],
   "metadata": {
    "id": "vxS6dVYiftZQ"
   }
  },
  {
   "cell_type": "markdown",
   "source": [
    "18. Створити множину, маючи список my_list = [1, 1, 2, 67, 67, 8, 9]. Пояснити, чому \"зникли\" деякі елементи."
   ],
   "metadata": {
    "id": "gHpT0Zw_1HEF"
   }
  },
  {
   "cell_type": "code",
   "source": [
    "my_list = [1, 1, 2, 67, 67, 8, 9]\n",
    "set2 = set(my_list)\n",
    "print(set2)"
   ],
   "metadata": {
    "id": "qCN4uvJ_fxmu",
    "colab": {
     "base_uri": "https://localhost:8080/"
    },
    "outputId": "03435a01-f400-4587-86d3-be3d1d04141d"
   },
   "execution_count": 23,
   "outputs": [
    {
     "output_type": "stream",
     "name": "stdout",
     "text": [
      "{1, 2, 67, 8, 9}\n"
     ]
    }
   ]
  },
  {
   "cell_type": "markdown",
   "source": [
    "*місце для текстової відповіді\n",
    "\n",
    "*Зникли дублікати елементів. В множинах можуть знаходитись лише унікальні елементи.*"
   ],
   "metadata": {
    "id": "tFNc1e20fyny"
   }
  },
  {
   "cell_type": "markdown",
   "source": [
    "19. Створіть дві множини. Продемонстуйте над ними операції: обʼєднання, різниці, пересічі та симетричної різниці. Використовуйте методи, що не змінюють множини, а створюють нові."
   ],
   "metadata": {
    "id": "SRMkGizS1UwY"
   }
  },
  {
   "cell_type": "code",
   "source": [
    "set1 = {1, 2, 3, 4, 5}\n",
    "set2 = {4, 5, 6, 7, 8}\n",
    "print(\"Перша множина:\", set1)\n",
    "print(\"Друга множина:\", set2)\n",
    "\n",
    "\n",
    "union_set = set1.union(set2)\n",
    "print(\"Обʼєднання:\", union_set)\n",
    "\n",
    "difference_set = set1.difference(set2)\n",
    "print(\"Різниця (set1 - set2):\", difference_set)\n",
    "difference_set = set2.difference(set1)\n",
    "print(\"Різниця (set2 - set1):\", difference_set)\n",
    "\n",
    "intersection_set = set1.intersection(set2)\n",
    "print(\"Пересіч:\", intersection_set)\n",
    "\n",
    "symmetric_difference_set = set1.symmetric_difference(set2)\n",
    "print(\"Симетрична різниця:\", symmetric_difference_set)\n"
   ],
   "metadata": {
    "id": "h0T-VuDnf3Ri",
    "colab": {
     "base_uri": "https://localhost:8080/"
    },
    "outputId": "61ddd85f-9a7d-42d0-e133-3c6f9037fc93"
   },
   "execution_count": 25,
   "outputs": [
    {
     "output_type": "stream",
     "name": "stdout",
     "text": [
      "Перша множина: {1, 2, 3, 4, 5}\n",
      "Друга множина: {4, 5, 6, 7, 8}\n",
      "Обʼєднання: {1, 2, 3, 4, 5, 6, 7, 8}\n",
      "Різниця (set1 - set2): {1, 2, 3}\n",
      "Різниця (set2 - set1): {8, 6, 7}\n",
      "Пересіч: {4, 5}\n",
      "Симетрична різниця: {1, 2, 3, 6, 7, 8}\n"
     ]
    }
   ]
  },
  {
   "cell_type": "markdown",
   "source": [
    "# VII. Словники (Dictionary)."
   ],
   "metadata": {
    "id": "kWc8gkzTx7Ea"
   }
  },
  {
   "cell_type": "markdown",
   "source": [
    "20. Створіть пустий словник. До нього додайте чотири пари елементів такі, щоб їхні ключі були різних типів. Чи може список бути ключем? Чому?"
   ],
   "metadata": {
    "id": "i5FLwj-B2ybQ"
   }
  },
  {
   "cell_type": "code",
   "source": [
    "dict1 = {}\n",
    "dict1[1] = \"integer key\"\n",
    "dict1[\"key\"] = \"string key\"\n",
    "dict1[3.14] = \"float key\"\n",
    "dict1[(1, 2)] = \"tuple key\"\n",
    "print(dict1)"
   ],
   "metadata": {
    "id": "hxgv3BzrgLAV",
    "colab": {
     "base_uri": "https://localhost:8080/"
    },
    "outputId": "3a1e44ef-3e77-4b39-b33c-c3fd7c2d9c31",
    "ExecuteTime": {
     "end_time": "2024-02-14T15:06:53.024526700Z",
     "start_time": "2024-02-14T15:06:52.966029800Z"
    }
   },
   "execution_count": 1,
   "outputs": [
    {
     "name": "stdout",
     "output_type": "stream",
     "text": [
      "{1: 'integer key', 'key': 'string key', 3.14: 'float key', (1, 2): 'tuple key'}\n"
     ]
    }
   ]
  },
  {
   "cell_type": "markdown",
   "source": [
    "*місце для текстової відповіді\n",
    "\n",
    "*Список не може бути ключем, бо це змінюваний (mutable) тип даних, через що він не може хешуватись.*"
   ],
   "metadata": {
    "id": "zwa7UVN-gR3m"
   }
  },
  {
   "cell_type": "markdown",
   "source": [
    "21. Створіть словник, де значенням в одній з пар теж буде словник, який теж має вкладений словник. Виведіть на екран значення, що міститься в словнику, що знаходиться на найнижчому рівні ієрархії вкладеності (найбільш внутрішній)."
   ],
   "metadata": {
    "id": "WM_pMlJsgoNf"
   }
  },
  {
   "cell_type": "code",
   "source": [
    "dict2 = {2 : 'the deepest value'}\n",
    "dict3 = {3 : dict2}\n",
    "dict4 = {4 : dict3}\n",
    "\n",
    "deepest_value = dict4[4][3][2]\n",
    "print(deepest_value)"
   ],
   "metadata": {
    "id": "60dlP7IHhAy4",
    "colab": {
     "base_uri": "https://localhost:8080/"
    },
    "outputId": "453f1a93-5bd0-4a89-90ab-d6fbbafd3f5b"
   },
   "execution_count": 27,
   "outputs": [
    {
     "output_type": "stream",
     "name": "stdout",
     "text": [
      "the deepest value\n"
     ]
    }
   ]
  },
  {
   "cell_type": "markdown",
   "source": [
    "# Вітаю! Ви велика(ий) молодець, що впоралась(вся). Похваліть себе та побалуйте чимось приємним. Я Вами пишаюся."
   ],
   "metadata": {
    "id": "xOZP0hkx6cCr"
   }
  }
 ]
}
