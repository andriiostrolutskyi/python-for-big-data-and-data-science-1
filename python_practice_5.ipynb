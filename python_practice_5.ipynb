{
 "nbformat": 4,
 "nbformat_minor": 0,
 "metadata": {
  "colab": {
   "provenance": []
  },
  "kernelspec": {
   "name": "python3",
   "display_name": "Python 3"
  },
  "language_info": {
   "name": "python"
  }
 },
 "cells": [
  {
   "cell_type": "markdown",
   "source": [
    "# I. OOP"
   ],
   "metadata": {
    "id": "5qV_sehzFCTp"
   }
  },
  {
   "cell_type": "markdown",
   "source": [
    "1. (6б). Створіть клас Animal, додайте три атрибути, один з яких має значення за замовчуванням та два методи на свій розсуд."
   ],
   "metadata": {
    "id": "tx_U_hOALyfg"
   }
  },
  {
   "cell_type": "code",
   "source": [
    "class Animal:\n",
    "  def __init__(self, name, family, is_domesticated = True):\n",
    "    self.name = name\n",
    "    self.family = family\n",
    "    self.is_domesticated = is_domesticated\n",
    "\n",
    "  def move(self, distance_in_meters, direction):\n",
    "    print(f\"{self.name} moved {distance_in_meters} meters {direction}\")\n",
    "\n",
    "  def introduce(self):\n",
    "    print(f\"Hello, I am a {self.name}!\")\n"
   ],
   "metadata": {
    "id": "-Vf895KaL88N"
   },
   "execution_count": 7,
   "outputs": []
  },
  {
   "cell_type": "markdown",
   "source": [
    "2. (2б). Створіть два обʼєкти цього класу, де один з обʼєктів створюється із дефолтним значенням атрибуту. На одному обʼєкті отримайте значення його атрибуту, а на іншому викличте один з його методів."
   ],
   "metadata": {
    "id": "X_UlOMB0L93w"
   }
  },
  {
   "cell_type": "code",
   "source": [
    "bob = Animal(\"Dog\", \"Canidae family\")\n",
    "gray_wolf = Animal(\"Wolf\", \"Canidae family\", False)\n",
    "\n",
    "bob_name = bob.name\n",
    "print(f\"Bob is a {bob_name}\")\n",
    "\n",
    "gray_wolf.introduce()\n"
   ],
   "metadata": {
    "id": "7gBu0ESOMCpG",
    "colab": {
     "base_uri": "https://localhost:8080/"
    },
    "outputId": "bf9d1917-6927-48c6-e9cb-ab16c2c68def"
   },
   "execution_count": 8,
   "outputs": [
    {
     "output_type": "stream",
     "name": "stdout",
     "text": [
      "Bob is a Dog\n",
      "Hello, I am a Wolf!\n"
     ]
    }
   ]
  },
  {
   "cell_type": "markdown",
   "source": [
    "3. (5б). Створіть клас, де атрибути мають різні рівні доступу. Спробуйте отримати їхні значення та опишіть результати."
   ],
   "metadata": {
    "id": "HoqSCZt1MHn5"
   }
  },
  {
   "cell_type": "code",
   "source": [
    "class AnimalPrivate:\n",
    "  def __init__(self, name, family, is_domesticated = True):\n",
    "    self.name = name\n",
    "    self._family = family\n",
    "    self.__is_domesticated = is_domesticated\n",
    "\n",
    "jack = AnimalPrivate(\"Dog\", \"Canidae family\")\n",
    "jack_name = jack.name\n",
    "print(f\"Jack is a {bob_name}\")\n",
    "jack_family = jack._family\n",
    "print(f\"Jack is from a {jack_family}\")\n",
    "is_jack_domesticated = jack.__is_domesticated"
   ],
   "metadata": {
    "id": "r9b3vJxBMSPV",
    "colab": {
     "base_uri": "https://localhost:8080/",
     "height": 211
    },
    "outputId": "d029d67a-1ec3-4895-cd54-02e29f034687"
   },
   "execution_count": 10,
   "outputs": [
    {
     "output_type": "stream",
     "name": "stdout",
     "text": [
      "Jack is a Dog\n",
      "Jack is from a Canidae family\n"
     ]
    },
    {
     "output_type": "error",
     "ename": "AttributeError",
     "evalue": "'AnimalPrivate' object has no attribute '__is_domesticated'",
     "traceback": [
      "\u001B[0;31m---------------------------------------------------------------------------\u001B[0m",
      "\u001B[0;31mAttributeError\u001B[0m                            Traceback (most recent call last)",
      "\u001B[0;32m<ipython-input-10-3141a355f639>\u001B[0m in \u001B[0;36m<cell line: 12>\u001B[0;34m()\u001B[0m\n\u001B[1;32m     10\u001B[0m \u001B[0mjack_family\u001B[0m \u001B[0;34m=\u001B[0m \u001B[0mjack\u001B[0m\u001B[0;34m.\u001B[0m\u001B[0m_family\u001B[0m\u001B[0;34m\u001B[0m\u001B[0;34m\u001B[0m\u001B[0m\n\u001B[1;32m     11\u001B[0m \u001B[0mprint\u001B[0m\u001B[0;34m(\u001B[0m\u001B[0;34mf\"Jack is from a {jack_family}\"\u001B[0m\u001B[0;34m)\u001B[0m\u001B[0;34m\u001B[0m\u001B[0;34m\u001B[0m\u001B[0m\n\u001B[0;32m---> 12\u001B[0;31m \u001B[0mis_jack_domesticated\u001B[0m \u001B[0;34m=\u001B[0m \u001B[0mjack\u001B[0m\u001B[0;34m.\u001B[0m\u001B[0m__is_domesticated\u001B[0m\u001B[0;34m\u001B[0m\u001B[0;34m\u001B[0m\u001B[0m\n\u001B[0m",
      "\u001B[0;31mAttributeError\u001B[0m: 'AnimalPrivate' object has no attribute '__is_domesticated'"
     ]
    }
   ]
  },
  {
   "cell_type": "markdown",
   "source": [
    "*name є public, тому повернення його значення не призводить до проблем; _family є protected, але в Python це лише домовленість, тому його виклик доступний поза класом та підкласами; __is_domesticated є private, тому його виклик призводить до помилки*"
   ],
   "metadata": {
    "id": "a9QaOZYsS_V2"
   }
  },
  {
   "cell_type": "markdown",
   "source": [
    "4. (7б). Як ви розумієте термін self? Для чого використовується метод __init __?"
   ],
   "metadata": {
    "id": "5op2m2vgMSkZ"
   }
  },
  {
   "cell_type": "markdown",
   "source": [],
   "metadata": {
    "id": "pKUB_ydySJg2"
   }
  },
  {
   "cell_type": "markdown",
   "source": [
    "*місце для відповіді\n",
    "\n",
    "*Термін self в Python використовується для посилання на сам об'єкт класу, коли ми працюємо з методами класу. У методах класу, які визначаються за допомогою ключового слова def, перший параметр завжди має бути self. Цей параметр дозволяє методу отримувати доступ до атрибутів та інших методів цього об'єкта. Коли ми викликаємо метод об'єкта, Python автоматично передає посилання на цей об'єкт як перший аргумент до методу. __init__ це конструктор класу, тобто метод, який викликається автоматично при створені якогось конкретного об'єкту.*"
   ],
   "metadata": {
    "id": "DyiPqNRvMasx"
   }
  },
  {
   "cell_type": "markdown",
   "source": [
    "5. (9б). Створіть клас Фігура без атрибутів, з методом get_area для отримання площі фігури, що повертає 0 та __add __, який приймає self та other в якості аргументів, а повертає суму площин фігур self та other."
   ],
   "metadata": {
    "id": "-6X8EGfjMd2y"
   }
  },
  {
   "cell_type": "code",
   "source": [
    "class Figure:\n",
    "  def __init__(self):\n",
    "    pass\n",
    "\n",
    "  def get_area(self):\n",
    "    return 0\n",
    "\n",
    "  def __add__(self, other):\n",
    "    return self.get_area() + other.get_area()"
   ],
   "metadata": {
    "id": "4rvO_wYUMaEr"
   },
   "execution_count": 11,
   "outputs": []
  },
  {
   "cell_type": "markdown",
   "source": [
    "6. (11б). Створіть 2 дочірніх класи від Фігури: Трикутник та Коло, які мають атрибути, необхідні для розрахунку площин. Визначте метод get_area в кожному з них так, щоби вони розраховували площу в залежності від формули для кожного типу фігури. Створіть обʼєкт класу Трикутник та обʼєкт класу Коло. Виконайте операцію суми за допомогою оператора + між ними."
   ],
   "metadata": {
    "id": "SFcKnnv5Mo_z"
   }
  },
  {
   "cell_type": "code",
   "source": [
    "import math\n",
    "\n",
    "class Triangle(Figure):\n",
    "  def __init__(self, side_a, side_b, side_c):\n",
    "    self.side_a = side_a\n",
    "    self.side_b = side_b\n",
    "    self.side_c = side_c\n",
    "\n",
    "  def get_area(self):\n",
    "    a = self.side_a\n",
    "    b = self.side_b\n",
    "    c = self.side_c\n",
    "    p = (a + b + c) / 2 #half perimeter\n",
    "    return math.sqrt(p*(p-a)*(p-b)*(p-c))\n",
    "\n",
    "class Circle(Figure):\n",
    "  def __init__(self, radius):\n",
    "    self.radius = radius\n",
    "\n",
    "  def get_area(self):\n",
    "    r = self.radius\n",
    "    pi = math.pi\n",
    "    return pi*r*r\n",
    "\n",
    "triangle = Triangle(3,4,5)\n",
    "circle = Circle(4)\n",
    "\n",
    "total_area = triangle + circle\n",
    "print(total_area)"
   ],
   "metadata": {
    "id": "H3GVNr69Muf3",
    "colab": {
     "base_uri": "https://localhost:8080/"
    },
    "outputId": "25200f3f-643c-4447-9f80-04e8a37e6538"
   },
   "execution_count": 12,
   "outputs": [
    {
     "output_type": "stream",
     "name": "stdout",
     "text": [
      "56.26548245743669\n"
     ]
    }
   ]
  },
  {
   "cell_type": "markdown",
   "source": [
    "7. (3б). Продемонструйте різницю між isinstance та issubclass."
   ],
   "metadata": {
    "id": "HCvR206YMvLK"
   }
  },
  {
   "cell_type": "code",
   "source": [
    "# Checks if object belongs to a class:\n",
    "print(\"Does circle belong to Circle class? \", isinstance(circle, Circle))\n",
    "print(\"Does circle belong to Figure class? \", isinstance(circle, Figure))\n",
    "print(\"Does circle belong to Triangle class? \", isinstance(circle, Triangle))\n",
    "\n",
    "# Checks if class is a subclass of another class:\n",
    "print(\"Is Circle sublclass of Figure? \", issubclass(Circle, Figure))\n",
    "print(\"Is Figure sublclass of Circle? \", issubclass(Figure, Circle))\n"
   ],
   "metadata": {
    "id": "L_V1bBvDM0GN",
    "colab": {
     "base_uri": "https://localhost:8080/"
    },
    "outputId": "47e88958-6724-4d59-816c-f4335c6d610d"
   },
   "execution_count": 13,
   "outputs": [
    {
     "output_type": "stream",
     "name": "stdout",
     "text": [
      "Does circle belong to Circle class?  True\n",
      "Does circle belong to Figure class?  True\n",
      "Does circle belong to Triangle class?  False\n",
      "Is Circle sublclass of Figure?  True\n",
      "Is Figure sublclass of Circle?  False\n"
     ]
    }
   ]
  },
  {
   "cell_type": "markdown",
   "source": [
    "8. (13б). Створіть клас BankAccount з приватними атрибутами balance та account_number. Реалізуйте методи поповнення та зняття коштів, забезпечивши належну інкапсуляцію. Підказка: використовуйте декоратори property та setter."
   ],
   "metadata": {
    "id": "jjsaBZ-iM0Qq"
   }
  },
  {
   "cell_type": "code",
   "source": [
    "class BankAccount:\n",
    "    def __init__(self, initial_balance=0, account_number=None):\n",
    "        self.__balance = initial_balance\n",
    "        self.__account_number = account_number\n",
    "\n",
    "    @property\n",
    "    def balance(self):\n",
    "        return self.__balance\n",
    "\n",
    "    @property\n",
    "    def number(self):\n",
    "        return self.__account_number\n",
    "\n",
    "    @balance.setter\n",
    "    def balance(self, amount):\n",
    "        if amount >= 0:\n",
    "            self.__balance = amount\n",
    "        else:\n",
    "            print(\"Amount must be a positive value.\")\n",
    "\n",
    "    def deposit(self, amount):\n",
    "        if amount > 0:\n",
    "            self.__balance += amount\n",
    "            print(f\"Deposited {amount}. New balance: {self.__balance}\")\n",
    "        else:\n",
    "            print(\"Deposit amount must be positive.\")\n",
    "\n",
    "    def withdraw(self, amount):\n",
    "        if 0 < amount <= self.__balance:\n",
    "            self.__balance -= amount\n",
    "            print(f\"Withdrawn {amount}. New balance: {self.__balance}\")\n",
    "        else:\n",
    "            print(\"Withdrawal amount must be positive and less than or equal to the balance.\")\n",
    "\n",
    "account = BankAccount(initial_balance=100, account_number=\"1234567890\")\n",
    "print(\"Initial balance:\", account.balance)\n",
    "\n",
    "account.deposit(50)\n",
    "print(\"Balance after deposit:\", account.balance)\n",
    "\n",
    "account.withdraw(30)\n",
    "print(\"Balance after withdrawal:\", account.balance)\n",
    "\n",
    "account.balance = -100"
   ],
   "metadata": {
    "id": "xCvZ7lh8M7YA",
    "colab": {
     "base_uri": "https://localhost:8080/"
    },
    "outputId": "101d0b5e-0a44-42f4-f8b0-a25fe9ae9a77"
   },
   "execution_count": 14,
   "outputs": [
    {
     "output_type": "stream",
     "name": "stdout",
     "text": [
      "Initial balance: 100\n",
      "Deposited 50. New balance: 150\n",
      "Balance after deposit: 150\n",
      "Withdrawn 30. New balance: 120\n",
      "Balance after withdrawal: 120\n",
      "Amount must be a positive value.\n"
     ]
    }
   ]
  },
  {
   "cell_type": "markdown",
   "source": [
    "9. (11б). Створіть клас Library, який містить список об'єктів типу Book. Реалізуйте методи для додавання книги, видалення книги та відображення списку книг."
   ],
   "metadata": {
    "id": "tIzL2SJTM8ft"
   }
  },
  {
   "cell_type": "code",
   "source": [
    "class Book:\n",
    "    def __init__(self, title, author):\n",
    "        self.title = title\n",
    "        self.author = author\n",
    "\n",
    "class Library:\n",
    "    def __init__(self):\n",
    "        self.books = []\n",
    "\n",
    "    def add_book(self, book):\n",
    "        self.books.append(book)\n",
    "        print(f\"The book '{book.title}' is added to the library.\")\n",
    "\n",
    "    def remove_book(self, book_title):\n",
    "        for book in self.books:\n",
    "            if book.title == book_title:\n",
    "                self.books.remove(book)\n",
    "                print(f\"The book '{book_title}' is removed from the library.\")\n",
    "                return\n",
    "        print(f\"The book '{book_title}' is not found in the library.\")\n",
    "\n",
    "    def __str__(self):\n",
    "        if self.books:\n",
    "            books_info = \"\\n\".join([f\"- '{book.title}' by {book.author}\" for book in self.books])\n",
    "            return f\"List of books in the library:\\n{books_info}\"\n",
    "        else:\n",
    "            return \"The library has no books yet.\"\n",
    "\n",
    "library = Library()\n",
    "\n",
    "book1 = Book(\"Harry Potter and the Philosopher's Stone\", \"J.K. Rowling\")\n",
    "book2 = Book(\"The Great Gatsby\", \"F. Scott Fitzgerald\")\n",
    "book3 = Book(\"To Kill a Mockingbird\", \"Harper Lee\")\n",
    "\n",
    "library.add_book(book1)\n",
    "library.add_book(book2)\n",
    "library.add_book(book3)\n",
    "\n",
    "print(library)\n",
    "\n",
    "library.remove_book(\"The Great Gatsby\")\n",
    "\n",
    "print(library)\n",
    "\n"
   ],
   "metadata": {
    "id": "HWxfJKLtNAUZ",
    "colab": {
     "base_uri": "https://localhost:8080/"
    },
    "outputId": "66b3158e-dd5f-4efa-f780-8f0f1677f39a"
   },
   "execution_count": 16,
   "outputs": [
    {
     "output_type": "stream",
     "name": "stdout",
     "text": [
      "The book 'Harry Potter and the Philosopher's Stone' is added to the library.\n",
      "The book 'The Great Gatsby' is added to the library.\n",
      "The book 'To Kill a Mockingbird' is added to the library.\n",
      "List of books in the library:\n",
      "- 'Harry Potter and the Philosopher's Stone' by J.K. Rowling\n",
      "- 'The Great Gatsby' by F. Scott Fitzgerald\n",
      "- 'To Kill a Mockingbird' by Harper Lee\n",
      "The book 'The Great Gatsby' is removed from the library.\n",
      "List of books in the library:\n",
      "- 'Harry Potter and the Philosopher's Stone' by J.K. Rowling\n",
      "- 'To Kill a Mockingbird' by Harper Lee\n"
     ]
    }
   ]
  },
  {
   "cell_type": "markdown",
   "source": [
    "10. (13б). Створіть клас Person з атрибутами name та age. Створіть ще один клас Employee з такими атрибутами, як department та salary. Створіть клас Manager, який успадковує обидва класи Person та Employee. Продемонструйте використання множинної спадковості, створивши обʼєкт класу Manager та отримавши mro для цього класу."
   ],
   "metadata": {
    "id": "lmV8pAwwNIqu"
   }
  },
  {
   "cell_type": "code",
   "source": [
    "class Person:\n",
    "    def __init__(self, name, age):\n",
    "        self.name = name\n",
    "        self.age = age\n",
    "\n",
    "class Employee:\n",
    "    def __init__(self, department, salary):\n",
    "        self.department = department\n",
    "        self.salary = salary\n",
    "\n",
    "class Manager(Employee, Person):\n",
    "    def __init__(self, name, age, department, salary):\n",
    "        Person.__init__(self, name, age)\n",
    "        Employee.__init__(self, department, salary)\n",
    "\n",
    "manager = Manager(\"John Doe\", 40, \"IT\", 100000)\n",
    "\n",
    "print(f\"Name: {manager.name}\")\n",
    "print(f\"Age: {manager.age}\")\n",
    "print(f\"Department: {manager.department}\")\n",
    "print(f\"Salary: {manager.salary}\")\n",
    "\n",
    "print(\"Method Resolution Order (MRO) for Manager class:\")\n",
    "print(Manager.mro())\n"
   ],
   "metadata": {
    "id": "R49grKlWNPeN",
    "colab": {
     "base_uri": "https://localhost:8080/"
    },
    "outputId": "5984d838-202c-4872-8c4b-45703614cdd0"
   },
   "execution_count": 17,
   "outputs": [
    {
     "output_type": "stream",
     "name": "stdout",
     "text": [
      "Name: John Doe\n",
      "Age: 40\n",
      "Department: IT\n",
      "Salary: 100000\n",
      "Method Resolution Order (MRO) for Manager class:\n",
      "[<class '__main__.Manager'>, <class '__main__.Employee'>, <class '__main__.Person'>, <class 'object'>]\n"
     ]
    }
   ]
  },
  {
   "cell_type": "markdown",
   "source": [
    "# II. Iterator"
   ],
   "metadata": {
    "id": "dIJyUiNBFG8G"
   }
  },
  {
   "cell_type": "markdown",
   "source": [
    "11. (4б). Визначте рядок(str) з 4ма різними за значенням символами. Створіть ітератор на основі цього рядка. Викличте 5 разів функцію next на ітераторі, 4ри перших з них огорніть у ф-цію print()."
   ],
   "metadata": {
    "id": "13vsm0NyKIzL"
   }
  },
  {
   "cell_type": "code",
   "source": [
    "my_str = \"abcd\"\n",
    "my_str_iter = iter(my_str)\n",
    "print(next(my_str_iter), next(my_str_iter), next(my_str_iter), next(my_str_iter))\n",
    "next(my_str_iter)"
   ],
   "metadata": {
    "id": "81ntabAkKuz-",
    "colab": {
     "base_uri": "https://localhost:8080/",
     "height": 193
    },
    "outputId": "5df2f9c2-9361-4150-c71c-17cc80c3783c"
   },
   "execution_count": 18,
   "outputs": [
    {
     "output_type": "stream",
     "name": "stdout",
     "text": [
      "a b c d\n"
     ]
    },
    {
     "output_type": "error",
     "ename": "StopIteration",
     "evalue": "",
     "traceback": [
      "\u001B[0;31m---------------------------------------------------------------------------\u001B[0m",
      "\u001B[0;31mStopIteration\u001B[0m                             Traceback (most recent call last)",
      "\u001B[0;32m<ipython-input-18-cc02befdc235>\u001B[0m in \u001B[0;36m<cell line: 4>\u001B[0;34m()\u001B[0m\n\u001B[1;32m      2\u001B[0m \u001B[0mmy_str_iter\u001B[0m \u001B[0;34m=\u001B[0m \u001B[0miter\u001B[0m\u001B[0;34m(\u001B[0m\u001B[0mmy_str\u001B[0m\u001B[0;34m)\u001B[0m\u001B[0;34m\u001B[0m\u001B[0;34m\u001B[0m\u001B[0m\n\u001B[1;32m      3\u001B[0m \u001B[0mprint\u001B[0m\u001B[0;34m(\u001B[0m\u001B[0mnext\u001B[0m\u001B[0;34m(\u001B[0m\u001B[0mmy_str_iter\u001B[0m\u001B[0;34m)\u001B[0m\u001B[0;34m,\u001B[0m \u001B[0mnext\u001B[0m\u001B[0;34m(\u001B[0m\u001B[0mmy_str_iter\u001B[0m\u001B[0;34m)\u001B[0m\u001B[0;34m,\u001B[0m \u001B[0mnext\u001B[0m\u001B[0;34m(\u001B[0m\u001B[0mmy_str_iter\u001B[0m\u001B[0;34m)\u001B[0m\u001B[0;34m,\u001B[0m \u001B[0mnext\u001B[0m\u001B[0;34m(\u001B[0m\u001B[0mmy_str_iter\u001B[0m\u001B[0;34m)\u001B[0m\u001B[0;34m)\u001B[0m\u001B[0;34m\u001B[0m\u001B[0;34m\u001B[0m\u001B[0m\n\u001B[0;32m----> 4\u001B[0;31m \u001B[0mnext\u001B[0m\u001B[0;34m(\u001B[0m\u001B[0mmy_str_iter\u001B[0m\u001B[0;34m)\u001B[0m\u001B[0;34m\u001B[0m\u001B[0;34m\u001B[0m\u001B[0m\n\u001B[0m",
      "\u001B[0;31mStopIteration\u001B[0m: "
     ]
    }
   ]
  },
  {
   "cell_type": "markdown",
   "source": [
    "А що якщо викликати цю ж функцію на рядку?"
   ],
   "metadata": {
    "id": "aekWHGXOLRsO"
   }
  },
  {
   "cell_type": "code",
   "source": [
    "next(my_str)"
   ],
   "metadata": {
    "id": "mxATGsErLV1i",
    "colab": {
     "base_uri": "https://localhost:8080/",
     "height": 141
    },
    "outputId": "40cc65d6-7e3a-4b84-d96b-42b366b0f343"
   },
   "execution_count": 19,
   "outputs": [
    {
     "output_type": "error",
     "ename": "TypeError",
     "evalue": "'str' object is not an iterator",
     "traceback": [
      "\u001B[0;31m---------------------------------------------------------------------------\u001B[0m",
      "\u001B[0;31mTypeError\u001B[0m                                 Traceback (most recent call last)",
      "\u001B[0;32m<ipython-input-19-b507c466c498>\u001B[0m in \u001B[0;36m<cell line: 1>\u001B[0;34m()\u001B[0m\n\u001B[0;32m----> 1\u001B[0;31m \u001B[0mnext\u001B[0m\u001B[0;34m(\u001B[0m\u001B[0mmy_str\u001B[0m\u001B[0;34m)\u001B[0m\u001B[0;34m\u001B[0m\u001B[0;34m\u001B[0m\u001B[0m\n\u001B[0m",
      "\u001B[0;31mTypeError\u001B[0m: 'str' object is not an iterator"
     ]
    }
   ]
  },
  {
   "cell_type": "markdown",
   "source": [
    " 12. (5б). Опишіть своїми словами в одному реченні, як ви розумієте різницю між ітерабельними обʼєктами та ітераторами (можна на прикладі)."
   ],
   "metadata": {
    "id": "XwtMEopwJ4pH"
   }
  },
  {
   "cell_type": "markdown",
   "source": [
    "*місце для відповіді\n",
    "\n",
    " *Ітерабельні об'єкти - об'єкти, які можна перераховувати/перебирати (список, рядок і тд), а ітератор - те, що виконує це перебирання. Як приклад, ітерабельні об'єкти - це учні в школі, а ітератор - це вчителька, яка проводить перекличку і вказує на кожного учня, коли до нього доходить черга*"
   ],
   "metadata": {
    "id": "-sHrODc3KFn8"
   }
  },
  {
   "cell_type": "markdown",
   "source": [
    "13. (11б). Створіть клас, що має визначений Iterator Protocol та при кожному виклику next повертає літери англійської абетки, поки вони не вичерпаються."
   ],
   "metadata": {
    "id": "E9qJWmNbK8Gl"
   }
  },
  {
   "cell_type": "code",
   "source": [
    "class AlphabetIterator:\n",
    "    def __init__(self):\n",
    "        self.current_char = ord('a')\n",
    "\n",
    "    def __iter__(self):\n",
    "        return self\n",
    "\n",
    "    def __next__(self):\n",
    "        if self.current_char <= ord('z'):\n",
    "            char = chr(self.current_char)\n",
    "            self.current_char += 1\n",
    "            return char\n",
    "        else:\n",
    "            raise StopIteration\n",
    "\n",
    "iterator = AlphabetIterator()\n",
    "\n",
    "for _ in range(26):\n",
    "  print(next(iterator))\n"
   ],
   "metadata": {
    "id": "cqx-g_RsLo6I",
    "colab": {
     "base_uri": "https://localhost:8080/"
    },
    "outputId": "8a59d366-8a5d-4fdd-c395-63251eb7b826"
   },
   "execution_count": 21,
   "outputs": [
    {
     "output_type": "stream",
     "name": "stdout",
     "text": [
      "a\n",
      "b\n",
      "c\n",
      "d\n",
      "e\n",
      "f\n",
      "g\n",
      "h\n",
      "i\n",
      "j\n",
      "k\n",
      "l\n",
      "m\n",
      "n\n",
      "o\n",
      "p\n",
      "q\n",
      "r\n",
      "s\n",
      "t\n",
      "u\n",
      "v\n",
      "w\n",
      "x\n",
      "y\n",
      "z\n"
     ]
    }
   ]
  },
  {
   "cell_type": "markdown",
   "source": [
    "# Вітаю! Ви велика(ий) молодець, що впоралась(вся). Похваліть себе та побалуйте чимось приємним. Я Вами пишаюся."
   ],
   "metadata": {
    "id": "Z3E3S_s1Fv7-"
   }
  }
 ]
}
